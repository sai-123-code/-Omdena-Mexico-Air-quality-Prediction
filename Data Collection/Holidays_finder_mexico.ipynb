{
 "cells": [
  {
   "cell_type": "markdown",
   "id": "efbcaa5f",
   "metadata": {},
   "source": [
    "# Manual Updating holidays code"
   ]
  },
  {
   "cell_type": "code",
   "execution_count": 15,
   "id": "71c7b24b",
   "metadata": {},
   "outputs": [
    {
     "data": {
      "text/html": [
       "<div>\n",
       "<style scoped>\n",
       "    .dataframe tbody tr th:only-of-type {\n",
       "        vertical-align: middle;\n",
       "    }\n",
       "\n",
       "    .dataframe tbody tr th {\n",
       "        vertical-align: top;\n",
       "    }\n",
       "\n",
       "    .dataframe thead th {\n",
       "        text-align: right;\n",
       "    }\n",
       "</style>\n",
       "<table border=\"1\" class=\"dataframe\">\n",
       "  <thead>\n",
       "    <tr style=\"text-align: right;\">\n",
       "      <th></th>\n",
       "      <th>timestamp</th>\n",
       "      <th>is_festival</th>\n",
       "      <th>is_weekend</th>\n",
       "    </tr>\n",
       "  </thead>\n",
       "  <tbody>\n",
       "    <tr>\n",
       "      <th>0</th>\n",
       "      <td>2020-01-01 00:00:00</td>\n",
       "      <td>1</td>\n",
       "      <td>0</td>\n",
       "    </tr>\n",
       "    <tr>\n",
       "      <th>1</th>\n",
       "      <td>2020-01-01 01:00:00</td>\n",
       "      <td>1</td>\n",
       "      <td>0</td>\n",
       "    </tr>\n",
       "    <tr>\n",
       "      <th>2</th>\n",
       "      <td>2020-01-01 02:00:00</td>\n",
       "      <td>1</td>\n",
       "      <td>0</td>\n",
       "    </tr>\n",
       "    <tr>\n",
       "      <th>3</th>\n",
       "      <td>2020-01-01 03:00:00</td>\n",
       "      <td>1</td>\n",
       "      <td>0</td>\n",
       "    </tr>\n",
       "    <tr>\n",
       "      <th>4</th>\n",
       "      <td>2020-01-01 04:00:00</td>\n",
       "      <td>1</td>\n",
       "      <td>0</td>\n",
       "    </tr>\n",
       "  </tbody>\n",
       "</table>\n",
       "</div>"
      ],
      "text/plain": [
       "            timestamp  is_festival  is_weekend\n",
       "0 2020-01-01 00:00:00            1           0\n",
       "1 2020-01-01 01:00:00            1           0\n",
       "2 2020-01-01 02:00:00            1           0\n",
       "3 2020-01-01 03:00:00            1           0\n",
       "4 2020-01-01 04:00:00            1           0"
      ]
     },
     "execution_count": 15,
     "metadata": {},
     "output_type": "execute_result"
    }
   ],
   "source": [
    "import pandas as pd\n",
    "import numpy as np\n",
    "\n",
    "# Define the festival dates (holidays) for each year\n",
    "festivals_2020 = [\n",
    "    \"2020-01-01\", \"2020-02-03\", \"2020-03-16\", \"2020-04-09\", \"2020-04-10\", \"2020-05-01\", \"2020-05-05\",\n",
    "    \"2020-09-16\", \"2020-10-12\", \"2020-11-02\", \"2020-11-16\", \"2020-12-12\", \"2020-12-25\",\n",
    "    \"2020-10-31\", \"2020-11-01\"  \n",
    "]\n",
    "festivals_2021 = [\n",
    "    \"2021-01-01\", \"2021-02-01\", \"2021-03-15\", \"2021-04-01\", \"2021-04-02\", \"2021-05-01\", \"2021-05-05\",\n",
    "    \"2021-09-16\", \"2021-10-12\", \"2021-11-02\", \"2021-11-15\", \"2021-12-12\", \"2021-12-25\",\n",
    "    \"2021-10-31\", \"2021-11-01\"  \n",
    "]\n",
    "festivals_2022 = [\n",
    "    \"2022-01-01\", \"2022-02-07\", \"2022-03-21\",\"2022-04-14\", \"2022-04-15\", \"2022-05-01\", \n",
    "    \"2022-09-16\", \"2022-11-21\", \"2022-12-25\",\n",
    "    \"2022-10-31\", \"2022-11-01\"  \n",
    "]\n",
    "festivals_2023 = [\n",
    "    \"2023-01-01\", \"2023-02-06\", \"2023-03-20\", \"2023-04-06\", \"2023-04-07\", \"2023-05-01\", \"2023-05-05\",\n",
    "    \"2023-09-16\", \"2023-10-12\", \"2023-11-02\", \"2023-11-20\", \"2023-12-12\", \"2023-12-25\",\n",
    "    \"2023-10-31\", \"2023-11-01\"  \n",
    "]\n",
    "festivals_2024 = [\n",
    "    \"2024-01-01\", \"2024-02-05\", \"2024-03-18\", \"2024-03-28\", \"2024-03-29\", \"2024-05-01\", \"2024-05-05\",\"2024-06-02\",\n",
    "    \"2024-09-16\", \"2024-10-12\", \"2024-11-02\", \"2024-11-18\", \"2024-12-12\", \"2024-12-25\",\n",
    "    \"2024-10-31\", \"2024-11-01\"  \n",
    "]\n",
    "\n",
    "# Additional festivals not fixed to a date, but with approximate ranges or exact days\n",
    "additional_festivals = {\n",
    "    \"Fiesta de la Candelaria\": [\"2020-02-02\", \"2021-02-02\", \"2022-02-02\", \"2023-02-02\", \"2024-02-02\"],  # Fixed date\n",
    "    \"Carnaval\": [\"2020-02-25\", \"2021-02-16\", \"2022-03-01\", \"2023-02-21\", \"2024-02-13\"],  # Approximate dates\n",
    "    \"Festival del Centro Histórico\": [\"2020-03-01\", \"2021-03-01\", \"2022-03-01\", \"2023-03-01\", \"2024-03-01\"],  # Approximate date\n",
    "    \"Semana Santa\": [\"2020-04-05\", \"2021-04-04\", \"2022-04-10\", \"2023-04-09\", \"2024-03-31\"],  # Easter Week\n",
    "    \"Festival Internacional de Cine de la Ciudad de México\": [\"2020-10-01\", \"2021-10-01\", \"2022-10-01\", \"2023-10-01\", \"2024-10-01\"],  # Approximate date\n",
    "    \"Festival Internacional Cervantino\": [\"2020-10-01\", \"2021-10-01\", \"2022-10-01\", \"2023-10-01\", \"2024-10-01\"],  # Approximate date\n",
    "}\n",
    "\n",
    "# Combine all festival lists into a dictionary by year\n",
    "festivals = {\n",
    "    2020: festivals_2020,\n",
    "    2021: festivals_2021,\n",
    "    2022: festivals_2022,\n",
    "    2023: festivals_2023,\n",
    "    2024: festivals_2024\n",
    "}\n",
    "\n",
    "# Add the additional festivals\n",
    "for festival in additional_festivals.values():\n",
    "    for year in range(2020, 2025):\n",
    "        festivals[year].extend(festival)\n",
    "\n",
    "# Generate hourly data for each year\n",
    "def generate_data_for_year(year):\n",
    "    # Create a date range from January 1 to December 31 with hourly frequency\n",
    "    date_range = pd.date_range(f\"{year}-01-01\", f\"{year}-12-31\", freq=\"H\")\n",
    "\n",
    "    # Initialize dataframe with the date range\n",
    "    df = pd.DataFrame(date_range, columns=[\"timestamp\"])\n",
    "\n",
    "    # Add is_festival column: 1 if the date is a festival, 0 otherwise\n",
    "    df['is_festival'] = df['timestamp'].dt.date.astype(str).isin(festivals[year])\n",
    "    df['is_festival'] = df['is_festival'].replace({True: 1, False: 0}) \n",
    "\n",
    "\n",
    "\n",
    "    # Add is_weekend column: 1 if the day is Saturday or Sunday, 0 otherwise\n",
    "    df['is_weekend'] = df['timestamp'].dt.dayofweek.isin([5, 6]).astype(int)\n",
    "\n",
    "    return df\n",
    "\n",
    "# Generate data for all years\n",
    "all_data = pd.concat([generate_data_for_year(year) for year in range(2020, 2025)])\n",
    "\n",
    "# Show the first few rows of the dataset\n",
    "all_data.head()"
   ]
  },
  {
   "cell_type": "code",
   "execution_count": 16,
   "id": "2ee88c9d",
   "metadata": {},
   "outputs": [
    {
     "data": {
      "text/plain": [
       "is_festival\n",
       "0    41429\n",
       "1     2304\n",
       "Name: count, dtype: int64"
      ]
     },
     "execution_count": 16,
     "metadata": {},
     "output_type": "execute_result"
    }
   ],
   "source": [
    "all_data['is_festival'].value_counts()"
   ]
  },
  {
   "cell_type": "code",
   "execution_count": 17,
   "id": "96aaee13",
   "metadata": {},
   "outputs": [
    {
     "data": {
      "text/plain": [
       "is_weekend\n",
       "0    31251\n",
       "1    12482\n",
       "Name: count, dtype: int64"
      ]
     },
     "execution_count": 17,
     "metadata": {},
     "output_type": "execute_result"
    }
   ],
   "source": [
    "all_data['is_weekend'].value_counts()"
   ]
  },
  {
   "cell_type": "code",
   "execution_count": 18,
   "id": "31b14277",
   "metadata": {},
   "outputs": [],
   "source": [
    "# Save the data to a CSV file\n",
    "all_data.to_csv(\"Mexico_city_data_with_festivals_Manual.csv\", index=False)"
   ]
  }
 ],
 "metadata": {
  "kernelspec": {
   "display_name": "Python 3 (ipykernel)",
   "language": "python",
   "name": "python3"
  },
  "language_info": {
   "codemirror_mode": {
    "name": "ipython",
    "version": 3
   },
   "file_extension": ".py",
   "mimetype": "text/x-python",
   "name": "python",
   "nbconvert_exporter": "python",
   "pygments_lexer": "ipython3",
   "version": "3.11.5"
  }
 },
 "nbformat": 4,
 "nbformat_minor": 5
}
